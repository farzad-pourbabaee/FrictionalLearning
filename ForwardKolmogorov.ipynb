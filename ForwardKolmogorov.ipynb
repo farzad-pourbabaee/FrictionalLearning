{
 "cells": [
  {
   "cell_type": "code",
   "execution_count": 1,
   "metadata": {},
   "outputs": [],
   "source": [
    "import numpy as np\n",
    "from scipy.integrate import quad\n",
    "from scipy import optimize, special\n",
    "import pstats\n",
    "from pstats import SortKey\n",
    "import matplotlib.pyplot as plt\n",
    "%matplotlib inline\n",
    "from ipywidgets import interactive"
   ]
  },
  {
   "cell_type": "markdown",
   "metadata": {},
   "source": [
    "## Steady-state measures followed from Kolmogorov forward equations:"
   ]
  },
  {
   "cell_type": "markdown",
   "metadata": {},
   "source": [
    "#### First moment = $\\int_a^x \\pi m(\\pi)d \\pi$;\n",
    "\n",
    "#### Mass at maximum belief level = $m(1)$, and at the termination point = $n(\\alpha)$;\n",
    "\n",
    "#### Implied variable = $\\Upsilon$;\n",
    "\n",
    "#### Total mass = $\\int_\\alpha^x m(\\pi) d \\pi$;\n",
    "\n",
    "#### And finally the surplus function. Note that we set $\\psi(\\pi) \\equiv \\pi^\\psi$."
   ]
  },
  {
   "cell_type": "code",
   "execution_count": 2,
   "metadata": {},
   "outputs": [],
   "source": [
    "def firstMoment(p, a, kappa, phi, delta, lam, mu, psi):\n",
    "    return(kappa * phi * p**psi / (mu * delta + kappa * phi * p**psi)\n",
    "           * (delta / (delta + lam))\n",
    "           * p * (1 - (a / (1 - a))**(delta / lam + 1) * (p / (1 - p))**(-(delta / lam + 1))))\n",
    "\n",
    "def mOne(p, a, kappa, phi, delta, lam, mu, psi):\n",
    "    return(kappa * phi * p**psi / (mu * delta + kappa * phi * p**psi)\n",
    "          * (kappa * phi / (mu * (delta + lam) + kappa * phi))\n",
    "          * (lam / (delta + lam))\n",
    "          * p * (1 - (a / (1 - a))**(delta / lam + 1) * (p / (1 - p))**(-(delta / lam + 1))))\n",
    "\n",
    "def nAlpha(p, a, kappa, phi, delta, lam, mu, psi):\n",
    "    return(kappa * phi * p**psi / (delta * mu + kappa * phi * p**psi)\n",
    "          * (a / p)**(delta / lam) * ((1 - a)/(1 - p))**(-(delta / lam + 1)))\n",
    "\n",
    "def upsilon(i, j, x, y, delta, lam):\n",
    "    return((y / x)**(delta / lam - 1) * ((1 - y)/(1 - x))**(-(delta / lam + 2)) * y**i * (1-y)**j \n",
    "           - x**i * (1 - x)**j)\n",
    "\n",
    "def totalMass(p, a, kappa, phi, delta, lam, mu, psi): \n",
    "    return(kappa * phi * p**psi / (mu * delta + kappa * phi * p**psi)\n",
    "          * (p - a) / (upsilon(2, 1, a, p, delta, lam) - a * upsilon(1, 1, a, p, delta, lam))\n",
    "          * (upsilon(1, 1, a, p, delta, lam) - (lam / (lam + delta) * upsilon(2, 1, a, p, delta, lam))))\n",
    "\n",
    "def surplus(a, p, kappa, phi, delta, lam, c, mu, psi):\n",
    "    return((lam - c) * mOne(p, a, kappa, phi, delta, lam, mu, psi) \n",
    "           + lam * firstMoment(p, a, kappa, phi, delta, lam, mu, psi) \n",
    "           - c * totalMass(p, a, kappa, phi, delta, lam, mu, psi))"
   ]
  },
  {
   "cell_type": "markdown",
   "metadata": {},
   "source": [
    "#### Defining the integral $\\int_\\alpha^p \\psi(\\pi)m(\\pi)d \\pi$, and the steady-state average reputation score $M\\equiv E[\\psi(\\pi_\\infty)]$:"
   ]
  },
  {
   "cell_type": "code",
   "execution_count": 3,
   "metadata": {},
   "outputs": [],
   "source": [
    "def psiMoment(p, a, kappa, phi, delta, lam, mu, psi):\n",
    "    return ((delta * kappa * phi / ((delta + lam) * (delta * mu + p**psi * kappa * phi))) \n",
    "            * (p**(psi - delta / lam) \n",
    "            * special.hyp2f1(-(1 + delta / lam), 1 - delta / lam - psi, -delta / lam, 1 - p)\n",
    "            - p**psi * a**(-delta / lam) * ((a / p)**(delta / lam)) * ((1 - a) / (1 - p))**(-(1 + delta / lam))\n",
    "            * special.hyp2f1(-(1 + delta / lam), 1 - delta / lam - psi, -delta / lam, 1 - a)))\n",
    "    \n",
    "\n",
    "def avgReputation(p, a, kappa, phi, delta, lam, mu, psi):\n",
    "    return((1 + mu * (delta + lam) / (kappa * phi)) * mOne(p, a, kappa, phi, delta, lam, mu, psi)\n",
    "           + p**psi * delta * mu / (delta * mu + kappa * phi * p**psi)\n",
    "           + psiMoment(p, a, kappa, phi, delta, lam, mu, psi)\n",
    "           + a**psi * nAlpha(p, a, kappa, phi, delta, lam, mu, psi))\n"
   ]
  },
  {
   "cell_type": "markdown",
   "metadata": {},
   "source": [
    "#### Finding the fixed-point of the equation $\\mu=M(\\mu,\\ldots)$."
   ]
  },
  {
   "cell_type": "code",
   "execution_count": 4,
   "metadata": {},
   "outputs": [],
   "source": [
    "def M_fixed_point(mu, p, a, kappa, phi, delta, lam, psi):\n",
    "    return(avgReputation(p, a, kappa, phi, delta, lam, mu, psi)-mu)\n",
    "\n",
    "def mu_fixed_point(p, a, kappa, phi, delta, lam, psi):\n",
    "    return(optimize.root_scalar(M_fixed_point,args=(p, a, kappa, phi, delta, lam, psi),x0=p/2,x1=p/3).root)"
   ]
  },
  {
   "cell_type": "markdown",
   "metadata": {},
   "source": [
    "#### The equilibrium $\\alpha_e$ and the the socially optimal  $\\alpha_*$ are as followed:"
   ]
  },
  {
   "cell_type": "code",
   "execution_count": 5,
   "metadata": {},
   "outputs": [],
   "source": [
    "def Alpha(kappa, r, phi, delta, lam, c, mu):\n",
    "    w = (r + delta)**(-1) * kappa * phi * (lam - c) / (mu * (r + delta + lam) + kappa * phi)\n",
    "    return(c / (lam * (1 + w)))\n",
    "\n",
    "def M_equil_fixed_point(mu, p, kappa, r, phi, delta, lam, c, psi):\n",
    "    return(avgReputation(p, Alpha(kappa, r, phi, delta, lam, c, mu), kappa, phi, delta, lam, mu, psi) - mu)\n",
    "\n",
    "def mu_equil(p, kappa, r, phi, delta, lam, c, psi):\n",
    "    return(optimize.root_scalar(M_equil_fixed_point,args=(p, kappa, r, phi, delta, lam, c, psi),x0=p/2,x1=p/3).root)\n",
    "\n",
    "def my_func(a, p, kappa, phi, delta, lam, c, psi):\n",
    "    return(-surplus(a, p, kappa, phi, delta, lam, c,  mu_fixed_point(p, a, kappa, phi, delta, lam, psi), psi))\n",
    "\n",
    "def Alpha_star(p, kappa, phi, delta, lam, c, psi):\n",
    "    return optimize.minimize(my_func,p/2, args=(p, kappa, phi, delta, lam, c, psi), bounds=[(0.01,p)]).x[0]"
   ]
  },
  {
   "cell_type": "markdown",
   "metadata": {},
   "source": [
    "## Interactive plots:"
   ]
  },
  {
   "cell_type": "markdown",
   "metadata": {},
   "source": [
    "### Social surplus as a function of the reputation cutoff $\\alpha$:"
   ]
  },
  {
   "cell_type": "code",
   "execution_count": 6,
   "metadata": {},
   "outputs": [],
   "source": [
    "## (Un)comment the following line to set the varaibles\n",
    "p = 0.4; phi = 1.4; delta = 0.3; lam = 1.75; c = 0.7; r = 0.8; kappa = 1"
   ]
  },
  {
   "cell_type": "code",
   "execution_count": 7,
   "metadata": {},
   "outputs": [
    {
     "data": {
      "application/vnd.jupyter.widget-view+json": {
       "model_id": "10dc351bdc0546dabeed446b08ede37a",
       "version_major": 2,
       "version_minor": 0
      },
      "text/plain": [
       "interactive(children=(FloatSlider(value=0.5, description='psi', max=0.9, min=0.1, step=0.05), FloatSlider(valu…"
      ]
     },
     "metadata": {},
     "output_type": "display_data"
    }
   ],
   "source": [
    "def surplus_manipulate(psi,mu):\n",
    "    plt.figure(2)\n",
    "    a = np.linspace(0.001, p, 50, endpoint=False)\n",
    "    plt.plot(a, surplus(a, p, kappa, phi, delta, lam, c, mu, psi))\n",
    "    plt.ylim(0, 0.2)\n",
    "    plt.title('Social Surplus as a function of the reputation cutoff')\n",
    "    plt.ylabel('Steady-state social surplus')\n",
    "    plt.show()\n",
    "    \n",
    "interactive_plot = interactive(surplus_manipulate, psi=(0.1,0.9,0.05),mu=(0.1,0.4,0.02))\n",
    "output = interactive_plot.children[-1]\n",
    "output.layout.height = '350px'\n",
    "interactive_plot"
   ]
  },
  {
   "cell_type": "markdown",
   "metadata": {},
   "source": [
    "### Steady-state reputation score $\\mu$ as a function of the reputation cutoff $\\alpha$:"
   ]
  },
  {
   "cell_type": "code",
   "execution_count": 8,
   "metadata": {},
   "outputs": [
    {
     "data": {
      "application/vnd.jupyter.widget-view+json": {
       "model_id": "a96ad144a12048f68aae3bd3f6a9020e",
       "version_major": 2,
       "version_minor": 0
      },
      "text/plain": [
       "interactive(children=(FloatSlider(value=0.5, description='p', max=0.7, min=0.3, step=0.05), FloatSlider(value=…"
      ]
     },
     "metadata": {},
     "output_type": "display_data"
    }
   ],
   "source": [
    "def mu_fixed_point_manipulate(p, phi, delta, lam, psi):\n",
    "    plt.figure(2)\n",
    "    a = np.linspace(0.001, p, 50, endpoint=False)\n",
    "    y = np.asarray([mu_fixed_point(p, x, 1, phi, delta, lam, psi) for x in a])\n",
    "    plt.plot(a, y)\n",
    "    plt.ylim(0, 0.9)\n",
    "    plt.title('Steady-state $\\mu$ as a function of the reputation cutoff')\n",
    "    plt.xlabel('Cutoff')\n",
    "    plt.ylabel('Steady-state $\\mu$')\n",
    "    plt.show()\n",
    "    \n",
    "interactive_plot = interactive(mu_fixed_point_manipulate, p=(0.3,0.7,0.05), phi=(0.2,1.2,0.1), delta=(0.01,0.5,0.02),\n",
    "                               lam=(1,3,0.2), psi=(0.1,0.9,0.05))\n",
    "output = interactive_plot.children[-1]\n",
    "output.layout.height = '350px'\n",
    "interactive_plot"
   ]
  },
  {
   "cell_type": "markdown",
   "metadata": {},
   "source": [
    "### Equilibrium vs. socially optimal *reputation cutoff* as a function of the curvature of the matching function $\\psi$:"
   ]
  },
  {
   "cell_type": "code",
   "execution_count": 9,
   "metadata": {},
   "outputs": [
    {
     "data": {
      "application/vnd.jupyter.widget-view+json": {
       "model_id": "779f534d2dff498cba159899f80f894f",
       "version_major": 2,
       "version_minor": 0
      },
      "text/plain": [
       "interactive(children=(FloatSlider(value=0.5, description='p', max=0.7, min=0.3, step=0.05), FloatSlider(value=…"
      ]
     },
     "metadata": {},
     "output_type": "display_data"
    }
   ],
   "source": [
    "def Alpha_comp(p, r, phi, delta, lam, c):\n",
    "    plt.figure(2)\n",
    "    psi = np.linspace(0.1,0.9,100)\n",
    "    Alpha_e = np.asarray([Alpha(1, r, phi, delta, lam, c, mu_equil(p, 1, r, phi, delta, lam, c, x)) for x in psi])\n",
    "    Alpha_s = np.asarray([Alpha_star(p, 1, phi, delta, lam, c, x) for x in psi ])\n",
    "    plt.plot(psi, Alpha_e, 'b', label='equilibrium $\\\\alpha$')\n",
    "    plt.plot(psi, Alpha_s, 'r', label='socially optimal $\\\\alpha$')\n",
    "    plt.legend()\n",
    "    plt.ylim(0, 0.2)\n",
    "    plt.show()  \n",
    "    \n",
    "    \n",
    "interactive_plot = interactive(Alpha_comp, p=(0.3,0.7,0.05), r=(0.5,0.9,0.05), phi=(0.2,1.2,0.1),\n",
    "                               delta=(0.05,0.4,0.02),lam=(1,3,0.2), c=(0.3,0.5,0.05))\n",
    "output = interactive_plot.children[-1]\n",
    "output.layout.height = '350px'\n",
    "interactive_plot"
   ]
  },
  {
   "cell_type": "markdown",
   "metadata": {},
   "source": [
    "### Equilibrium vs. socially optimal *surplus* as a function of the curvature of the matching function $\\psi$:"
   ]
  },
  {
   "cell_type": "code",
   "execution_count": 10,
   "metadata": {},
   "outputs": [
    {
     "data": {
      "application/vnd.jupyter.widget-view+json": {
       "model_id": "6906da454efd4139b0b888d438baa16f",
       "version_major": 2,
       "version_minor": 0
      },
      "text/plain": [
       "interactive(children=(FloatSlider(value=0.5, description='p', max=0.7, min=0.3, step=0.05), FloatSlider(value=…"
      ]
     },
     "metadata": {},
     "output_type": "display_data"
    }
   ],
   "source": [
    "def surplus_comp(p, r, phi, delta, lam, c):\n",
    "    plt.figure(2)\n",
    "    psi = np.linspace(0.1,0.9,100)\n",
    "    s_e = np.asarray([surplus(Alpha(1, r, phi, delta, lam, c, mu_equil(p, 1, r, phi, delta, lam, c, x)), p, 1,\n",
    "                              phi, delta, lam, c, mu_equil(p, 1, r, phi, delta, lam, c, x), x) for x in psi])\n",
    "    s_s = np.asarray([surplus(Alpha_star(p, 1, phi, delta, lam, c, x), p, 1, phi, delta, lam, c,\n",
    "                              mu_fixed_point(p, Alpha_star(p, 1, phi, delta, lam, c, x), 1, phi, delta, lam, x),\n",
    "                              x) for x in psi])\n",
    " \n",
    "    plt.plot(psi,s_e,'b', label='equilibrium surplus')\n",
    "    plt.plot(psi,s_s,'r', label='optimal surplus')\n",
    "    plt.legend()\n",
    "    plt.ylim(0, 0.2)\n",
    "    plt.show()  \n",
    "    \n",
    "interactive_plot = interactive(surplus_comp, p=(0.3,0.7,0.05), r=(0.5,0.9,0.05), phi=(0.2,1.2,0.1),\n",
    "                               delta=(0.05,0.4,0.02),lam=(1,3,0.2), c=(0.3,0.7,0.05))\n",
    "output = interactive_plot.children[-1]\n",
    "output.layout.height = '350px'\n",
    "interactive_plot"
   ]
  }
 ],
 "metadata": {
  "kernelspec": {
   "display_name": "Python 3 (ipykernel)",
   "language": "python",
   "name": "python3"
  },
  "language_info": {
   "codemirror_mode": {
    "name": "ipython",
    "version": 3
   },
   "file_extension": ".py",
   "mimetype": "text/x-python",
   "name": "python",
   "nbconvert_exporter": "python",
   "pygments_lexer": "ipython3",
   "version": "3.9.13"
  }
 },
 "nbformat": 4,
 "nbformat_minor": 2
}
